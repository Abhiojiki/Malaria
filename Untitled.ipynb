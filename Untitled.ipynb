{
 "cells": [
  {
   "cell_type": "code",
   "execution_count": 7,
   "id": "dcd7231b",
   "metadata": {},
   "outputs": [],
   "source": [
    "import asyncio\n",
    "\n",
    "def get_or_create_eventloop():\n",
    "    try:\n",
    "        return asyncio.get_event_loop()\n",
    "    except RuntimeError as ex:\n",
    "        if \"There is no current event loop in thread\" in str(ex):\n",
    "            loop = asyncio.new_event_loop()\n",
    "            asyncio.set_event_loop(loop)\n",
    "            return asyncio.get_event_loop()\n",
    "\n",
    "loop = asyncio.new_event_loop()\n",
    "asyncio.set_event_loop(loop)"
   ]
  },
  {
   "cell_type": "code",
   "execution_count": 8,
   "id": "d54eb5fc",
   "metadata": {},
   "outputs": [],
   "source": [
    "# Using streamlit framework for front end development\n",
    "# Run this python file after giving the location of model in line 30\n",
    "# Copy the link provided in the output paste it in command prompt \n",
    "# Add ' \" ' in the starting and ending of location (e.g. -streamlit run \"E:/malaria/frontend file for vgg19.py\") and run the command\n",
    "# It will automatically show a interface where one can test the model.\n",
    "from PIL import Image,ImageOps\n",
    "import keras_preprocessing.image\n",
    "import matplotlib.pyplot as plt\n",
    "import numpy as np\n",
    "import streamlit as st\n",
    "import tensorflow as tf\n",
    "import tensorflow_hub as hub\n",
    "\n",
    "def main():\n",
    "#     We can add a picture to the interface by providing the location below\n",
    "    image = Image.open('WIN_20210802_11_33_22_Pro.jpg')\n",
    "    st.image(image, caption='malaria', use_column_width=True)\n",
    "    st.title(\"Malaria Parasite detector application\")\n",
    "    file_uploaded=st.file_uploader(\"Upload a blood smear image\",type=['jpg','png','jpeg'])\n",
    "    if file_uploaded is not None:\n",
    "        image=Image.open(file_uploaded)\n",
    "        figure=plt.figure()\n",
    "        plt.imshow(image)\n",
    "        plt.axis('off')\n",
    "        result=predict_class(image)\n",
    "        st.write(result)\n",
    "        st.pyplot(figure)\n",
    "def predict_class(image):\n",
    "    if (st.button('Predict')):\n",
    "        classifier_model=tf.keras.models.load_model(r'E:\\Malaria\\malaria_prediction_model.h5')\n",
    "        shape=((224,224,3))\n",
    "        model=tf.keras.Sequential(hub.KerasLayer(classifier_model,input_shape=shape))\n",
    "        test_image=image.resize((224,224))\n",
    "        test_image=keras_preprocessing.image.img_to_array(test_image)\n",
    "        test_image=test_image/255.0\n",
    "        test_image=np.expand_dims(test_image,axis=0)\n",
    "        class_names=['infected','uninfected']\n",
    "        predictions=model.predict(test_image)\n",
    "        scores=tf.nn.softmax(predictions[0])\n",
    "        scores=scores.numpy()\n",
    "        image_class=class_names[np.argmax(scores)]\n",
    "        a=''\n",
    "        if(image_class=='infected'):\n",
    "            a='You are infected with malaria.Please consult your doctor as soon as possible.'\n",
    "        else:\n",
    "            a='Congrats!! You are not infected with malaria.'\n",
    "        result=a\n",
    "        return result\n",
    "\n",
    "if __name__=='__main__':\n",
    "    main()\n"
   ]
  }
 ],
 "metadata": {
  "kernelspec": {
   "display_name": "Python 3 (ipykernel)",
   "language": "python",
   "name": "python3"
  },
  "language_info": {
   "codemirror_mode": {
    "name": "ipython",
    "version": 3
   },
   "file_extension": ".py",
   "mimetype": "text/x-python",
   "name": "python",
   "nbconvert_exporter": "python",
   "pygments_lexer": "ipython3",
   "version": "3.9.13"
  }
 },
 "nbformat": 4,
 "nbformat_minor": 5
}
